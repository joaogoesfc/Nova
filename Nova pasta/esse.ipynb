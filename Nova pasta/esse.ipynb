{
 "cells": [
  {
   "cell_type": "code",
   "execution_count": 1,
   "metadata": {},
   "outputs": [
    {
     "name": "stderr",
     "output_type": "stream",
     "text": [
      "/tmp/ipykernel_1047/1868114216.py:7: FutureWarning: pyarrow.hdfs.HadoopFileSystem is deprecated as of 2.0.0, please use pyarrow.fs.HadoopFileSystem instead.\n",
      "  hdfs.HadoopFileSystem(\"hdfs://namenode:9000\")\n"
     ]
    }
   ],
   "source": [
    "import pyspark\n",
    "import pandas as pd\n",
    "from pyarrow import fs, hdfs\n",
    "from pyspark.sql.functions import col, split, explode\n",
    "from pyspark.sql import SparkSession\n",
    "\n",
    "hdfs.HadoopFileSystem(\"hdfs://namenode:9000\")\n",
    "conexao = fs.HadoopFileSystem(host=\"namenode\", port=9000)"
   ]
  },
  {
   "cell_type": "code",
   "execution_count": 2,
   "metadata": {},
   "outputs": [
    {
     "data": {
      "text/plain": [
       "[<FileInfo for '/Somativa2': type=FileType.Directory>,\n",
       " <FileInfo for '/Somativa2/sentiment140.csv': type=FileType.File, size=44326223>]"
      ]
     },
     "execution_count": 2,
     "metadata": {},
     "output_type": "execute_result"
    }
   ],
   "source": [
    "\n",
    "conexao.get_file_info(fs.FileSelector('/', recursive = True))"
   ]
  },
  {
   "cell_type": "code",
   "execution_count": null,
   "metadata": {},
   "outputs": [],
   "source": [
    "\n",
    "conexao.create_dir('SUAPASTA')"
   ]
  },
  {
   "cell_type": "code",
   "execution_count": 3,
   "metadata": {},
   "outputs": [],
   "source": [
    "\n",
    "caminho_arquivo_origem = '/home/jovyan/work/sentiment140.csv'\n",
    "caminho_arquivo_destino = '/SUAPASTA/sentiment140.csv'\n"
   ]
  },
  {
   "cell_type": "code",
   "execution_count": 4,
   "metadata": {},
   "outputs": [],
   "source": [
    "\n",
    "\n",
    "with conexao.open_output_stream(caminho_arquivo_destino) as stream:\n",
    "    stream.write(open(caminho_arquivo_origem, 'rb').read())"
   ]
  },
  {
   "cell_type": "code",
   "execution_count": 5,
   "metadata": {},
   "outputs": [],
   "source": [
    "with conexao.open_output_stream(caminho_arquivo_destino) as stream:\n",
    "    with open(caminho_arquivo_origem, 'rb') as f:\n",
    "        stream.write(f.read())"
   ]
  },
  {
   "cell_type": "code",
   "execution_count": 6,
   "metadata": {},
   "outputs": [
    {
     "name": "stdout",
     "output_type": "stream",
     "text": [
      "b'\\xef\\xbb\\xbftarget;ids;date;flag;user;text\\r\\n0;1467810369;Mon Apr 06 22:19:45 PDT 2009;NO_QUERY;_TheSpecialOne'\n"
     ]
    }
   ],
   "source": [
    "\n",
    "with conexao.open_input_stream(caminho_arquivo_destino) as f:\n",
    "    print(f.read(50))\n"
   ]
  },
  {
   "cell_type": "code",
   "execution_count": 7,
   "metadata": {},
   "outputs": [],
   "source": [
    "spark = SparkSession.builder.appName('Spark').config('spark.sql.legacy.timeParserPolicy', 'LEGACY').getOrCreate()\n"
   ]
  },
  {
   "cell_type": "code",
   "execution_count": 8,
   "metadata": {},
   "outputs": [],
   "source": [
    "df_spark_hdfs = spark.read.csv('hdfs://namenode:9000/Somativa2', header = True, inferSchema = True, sep = ';')"
   ]
  },
  {
   "cell_type": "code",
   "execution_count": 10,
   "metadata": {},
   "outputs": [
    {
     "name": "stdout",
     "output_type": "stream",
     "text": [
      "+----+------+\n",
      "|word| count|\n",
      "+----+------+\n",
      "|  to|124781|\n",
      "|   I|117877|\n",
      "| the| 98203|\n",
      "|   a| 70968|\n",
      "|  my| 65431|\n",
      "|   i| 62713|\n",
      "| and| 56596|\n",
      "|  is| 47798|\n",
      "|  in| 43863|\n",
      "| for| 38425|\n",
      "+----+------+\n",
      "only showing top 10 rows\n",
      "\n"
     ]
    }
   ],
   "source": [
    "df_words = df_spark_hdfs.select(explode(split(col('text'), ' ')).alias('word'))\n",
    "\n",
    "\n",
    "df_word_counts = df_words.filter(col('word') != '').groupBy('word').count().orderBy(col('count').desc())\n",
    "\n",
    "df_word_counts.show(10)\n",
    "\n"
   ]
  },
  {
   "cell_type": "code",
   "execution_count": 11,
   "metadata": {},
   "outputs": [
    {
     "name": "stdout",
     "output_type": "stream",
     "text": [
      "+----------------+-----+\n",
      "|            word|count|\n",
      "+----------------+-----+\n",
      "|               @| 2217|\n",
      "|     @mileycyrus|  673|\n",
      "|       @tommcfly|  658|\n",
      "|       @ddlovato|  407|\n",
      "|@JonathanRKnight|  216|\n",
      "|  @taylorswift13|  193|\n",
      "|   @mitchelmusso|  189|\n",
      "|    @DavidArchie|  175|\n",
      "|   @jordanknight|  156|\n",
      "|    @selenagomez|  142|\n",
      "+----------------+-----+\n",
      "only showing top 10 rows\n",
      "\n"
     ]
    }
   ],
   "source": [
    "df_words = df_spark_hdfs.select(explode(split(col('text'), ' ')).alias('word'))\n",
    "\n",
    "\n",
    "df_mentions = df_words.filter(col('word').startswith('@')).groupBy('word').count().orderBy(col('count').desc())\n",
    "\n",
    "\n",
    "df_mentions.show(10)"
   ]
  },
  {
   "cell_type": "code",
   "execution_count": 12,
   "metadata": {},
   "outputs": [
    {
     "name": "stdout",
     "output_type": "stream",
     "text": [
      "+---------------+-----+\n",
      "|           word|count|\n",
      "+---------------+-----+\n",
      "|            #fb|  371|\n",
      "|       #asot400|  111|\n",
      "|          #fail|  110|\n",
      "|              #|   85|\n",
      "|           #bgt|   71|\n",
      "|         #NOME?|   55|\n",
      "|#whatsmysection|   52|\n",
      "|    #myweakness|   50|\n",
      "|             #1|   49|\n",
      "|  #marsiscoming|   48|\n",
      "+---------------+-----+\n",
      "only showing top 10 rows\n",
      "\n"
     ]
    }
   ],
   "source": [
    "df_words = df_spark_hdfs.select(explode(split(col('text'), ' ')).alias('word'))\n",
    "\n",
    "\n",
    "df_hashtags = df_words.filter(col('word').startswith('#')).groupBy('word').count().orderBy(col('count').desc())\n",
    "\n",
    "df_hashtags.show(10)"
   ]
  },
  {
   "cell_type": "code",
   "execution_count": null,
   "metadata": {},
   "outputs": [],
   "source": []
  }
 ],
 "metadata": {
  "kernelspec": {
   "display_name": "Python 3 (ipykernel)",
   "language": "python",
   "name": "python3"
  },
  "language_info": {
   "codemirror_mode": {
    "name": "ipython",
    "version": 3
   },
   "file_extension": ".py",
   "mimetype": "text/x-python",
   "name": "python",
   "nbconvert_exporter": "python",
   "pygments_lexer": "ipython3",
   "version": "3.11.6"
  }
 },
 "nbformat": 4,
 "nbformat_minor": 4
}
