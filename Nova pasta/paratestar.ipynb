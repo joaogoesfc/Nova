{
 "cells": [
  {
   "cell_type": "code",
   "execution_count": null,
   "metadata": {},
   "outputs": [],
   "source": [
    "import pyspark\n",
    "import pandas as pd\n",
    "from pyarrow import fs, hdfs\n",
    "from pyspark.sql.functions import col, split, explode\n",
    "from pyspark.sql import SparkSession\n",
    "\n",
    "hdfs.HadoopFileSystem(\"hdfs://namenode:9000\")\n",
    "conexao = fs.HadoopFileSystem(host=\"namenode\", port=9000)"
   ]
  },
  {
   "cell_type": "code",
   "execution_count": null,
   "metadata": {},
   "outputs": [],
   "source": [
    "\n",
    "conexao.get_file_info(fs.FileSelector('/', recursive = True))"
   ]
  },
  {
   "cell_type": "code",
   "execution_count": null,
   "metadata": {},
   "outputs": [],
   "source": [
    "\n",
    "conexao.create_dir('smtv2')"
   ]
  },
  {
   "cell_type": "code",
   "execution_count": null,
   "metadata": {},
   "outputs": [],
   "source": [
    "origem = '/home/joao.seje/Downloads/sentiment140.csv'\n",
    "\n",
    "destino = '/smtv2/sentiment140.csv'"
   ]
  },
  {
   "cell_type": "code",
   "execution_count": null,
   "metadata": {},
   "outputs": [],
   "source": [
    "with conexao.open_output_stream(destino) as stream:\n",
    "    stream.write(open(origem, 'rb').read())"
   ]
  },
  {
   "cell_type": "code",
   "execution_count": null,
   "metadata": {},
   "outputs": [],
   "source": [
    "with conexao.open_output_stream(destino) as stream:\n",
    "    with open(origem, 'rb') as f:\n",
    "        stream.write(f.read())"
   ]
  },
  {
   "cell_type": "code",
   "execution_count": null,
   "metadata": {},
   "outputs": [],
   "source": [
    "\n",
    "with conexao.open_input_stream(destino) as f:\n",
    "    print(f.read(50))\n"
   ]
  },
  {
   "cell_type": "code",
   "execution_count": null,
   "metadata": {},
   "outputs": [],
   "source": [
    "spark = SparkSession.builder.appName('Spark').config('spark.sql.legacy.timeParserPolicy', 'LEGACY').getOrCreate()\n"
   ]
  },
  {
   "cell_type": "code",
   "execution_count": null,
   "metadata": {},
   "outputs": [],
   "source": [
    "df_spark_hdfs = spark.read.csv('hdfs://namenode:9000/Somativa2', header = True, inferSchema = True, sep = ';')"
   ]
  },
  {
   "cell_type": "code",
   "execution_count": null,
   "metadata": {},
   "outputs": [],
   "source": [
    "df_palavras = df_spark_hdfs.select(explode(split(col('text'), ' ')).alias('palavra'))\n",
    "\n",
    "\n",
    "df_palavra_counts = df_palavras.filter(col('palavra') != '').groupBy('palavra').count().orderBy(col('quantidade').desc())\n",
    "\n",
    "df_palavra_counts.show(10)\n",
    "\n"
   ]
  },
  {
   "cell_type": "code",
   "execution_count": null,
   "metadata": {},
   "outputs": [],
   "source": [
    "df_palavras = df_spark_hdfs.select(explode(split(col('text'), ' ')).alias('palavra'))\n",
    "\n",
    "\n",
    "df_mentions = df_palavras.filter(col('palavra').startswith('@')).groupBy('palavra').count().orderBy(col('quantidade').desc())\n",
    "\n",
    "\n",
    "df_mentions.show(10)"
   ]
  },
  {
   "cell_type": "code",
   "execution_count": null,
   "metadata": {},
   "outputs": [],
   "source": [
    "df_palavras = df_spark_hdfs.select(explode(split(col('text'), ' ')).alias('palavra'))\n",
    "\n",
    "\n",
    "df_hashtags = df_palavras.filter(col('palavra').startswith('#')).groupBy('palavra').count().orderBy(col('quantidade').desc())\n",
    "\n",
    "df_hashtags.show(10)"
   ]
  },
  {
   "cell_type": "code",
   "execution_count": null,
   "metadata": {},
   "outputs": [],
   "source": []
  }
 ],
 "metadata": {
  "kernelspec": {
   "display_name": "Python 3 (ipykernel)",
   "language": "python",
   "name": "python3"
  },
  "language_info": {
   "codemirror_mode": {
    "name": "ipython",
    "version": 3
   },
   "file_extension": ".py",
   "mimetype": "text/x-python",
   "name": "python",
   "nbconvert_exporter": "python",
   "pygments_lexer": "ipython3",
   "version": "3.11.6"
  }
 },
 "nbformat": 4,
 "nbformat_minor": 4
}
